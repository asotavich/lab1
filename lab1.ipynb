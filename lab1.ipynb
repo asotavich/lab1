{
 "cells": [
  {
   "cell_type": "markdown",
   "id": "0296f9d1-9a34-4d13-add5-4092cc4b0200",
   "metadata": {},
   "source": [
    "# Burkina Faso Country Profile\n",
    "\n",
    "<div style=\"border: 2px solid #000000; padding: 10px; background-color: #e0f7fa;\">\n",
    "\n",
    "## Area and Population\n",
    "\n",
    "- **Area**: 274,200 square kilometers\n",
    "- **Population**: ~21 million (2023)\n",
    "\n",
    "## Government\n",
    "- **Type**: Presidential Republic\n",
    "- **Capital**: Ouagadougou\n",
    "\n",
    "## Celebrities\n",
    "1. **Thomas Sankara** – Revolutionary and former president.\n",
    "2. **Salif Keita** – Famous footballer.\n",
    "3. **Aïda Muluneh** – Renowned photographer.\n",
    "\n",
    "## Cultural and Natural Attractions\n",
    "- **Cultural Sites:**\n",
    "  - National Museum of Burkina Faso\n",
    "  - Moro-Naba Palace\n",
    "- **Natural Attractions:**\n",
    "  - **Sindou Peaks**\n",
    "  - **Cascades de Karfiguéla**\n",
    "\n",
    "</div>\n",
    "\n",
    "### Burkina Faso Flag\n",
    "\n",
    "```html\n",
    "<svg width=\"300\" height=\"200\">\n",
    "  <rect width=\"300\" height=\"100\" style=\"fill:red;\" />\n",
    "  <rect y=\"100\" width=\"300\" height=\"100\" style=\"fill:green;\" />\n",
    "  <polygon points=\"150,85 165,115 195,115 170,135 180,165 150,145 120,165 130,135 105,115 135,115\" style=\"fill:yellow;\" />\n",
    "</svg>"
   ]
  },
  {
   "cell_type": "code",
   "execution_count": 1,
   "id": "dd5532db-7862-49aa-b6c6-70c164c6d313",
   "metadata": {},
   "outputs": [
    {
     "data": {
      "text/plain": [
       "'skibidi, 52'"
      ]
     },
     "execution_count": 1,
     "metadata": {},
     "output_type": "execute_result"
    }
   ],
   "source": [
    "def skibidi(name):\n",
    "    return f'skibidi, {name}'\n",
    "skibidi('52')"
   ]
  }
 ],
 "metadata": {
  "kernelspec": {
   "display_name": "Python 3 (ipykernel)",
   "language": "python",
   "name": "python3"
  },
  "language_info": {
   "codemirror_mode": {
    "name": "ipython",
    "version": 3
   },
   "file_extension": ".py",
   "mimetype": "text/x-python",
   "name": "python",
   "nbconvert_exporter": "python",
   "pygments_lexer": "ipython3",
   "version": "3.10.14"
  }
 },
 "nbformat": 4,
 "nbformat_minor": 5
}
