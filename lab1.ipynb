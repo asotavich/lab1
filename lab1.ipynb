{
 "cells": [
  {
   "cell_type": "markdown",
   "id": "81341abc-b58d-4661-9d8d-4133d0a03215",
   "metadata": {},
   "source": [
    "# Burkina Faso Country Profile\n",
    "\n",
    "<div style=\"border: 3px solid #000000; padding: 15px; background-color: #f0f8ff;\">\n",
    "\n",
    "## Area and Population\n",
    "\n",
    "- **<span style=\"color:blue;\">Area</span>**: <u>274,200 square kilometers</u>\n",
    "- **<span style=\"color:green;\">Population</span>**: ~21 million (2023)\n",
    "\n",
    "## Government\n",
    "- **<span style=\"color:red;\">Type</span>**: *Presidential Republic*\n",
    "- **<span style=\"color:purple;\">Capital</span>**: **Ouagadougou**\n",
    "\n",
    "## Celebrities\n",
    "\n",
    "1. **Thomas Sankara** – Revolutionary and former president.\n",
    "2. **Salif Keita** – Famous footballer.\n",
    "3. **Aïda Muluneh** – Renowned photographer.\n",
    "\n",
    "## Burkina Faso Flag\n",
    "\n",
    "- <div style=\"border: 2px solid #000; padding: 10px; background-color: #e0ffe0;\">\n",
    "    <svg width=\"300\" height=\"200\">\n",
    "      <rect width=\"300\" height=\"100\" style=\"fill:red;\" />\n",
    "      <rect y=\"100\" width=\"300\" height=\"100\" style=\"fill:green;\" />\n",
    "      <polygon points=\"150,60 165,90 195,90 170,110 180,140 150,120 120,140 130,110 105,90 135,90\" style=\"fill:yellow;\" />\n",
    "    </svg>\n",
    "</div>\n",
    "</div>\n",
    "\n",
    "---\n",
    "\n",
    "### Table of Information\n",
    "\n",
    "| **Category**            | **Information**                                |\n",
    "|-------------------------|------------------------------------------------|\n",
    "| <span style=\"color:blue;\">**Area**</span> | 274,200 sq km                               |\n",
    "| <span style=\"color:green;\">**Population**</span> | ~21 million                                  |\n",
    "| <span style=\"color:red;\">**Capital**</span> | Ouagadougou                                  |\n",
    "| **Natural Wonders**      | Cascades de Karfiguéla, Sindou Peaks           |\n",
    "\n",
    "---\n",
    "\n",
    "#### Linked picture:\n",
    "[![Flag of Burkina Faso](https://upload.wikimedia.org/wikipedia/commons/thumb/3/31/Flag_of_Burkina_Faso.svg/1920px-Flag_of_Burkina_Faso.svg.png)](https://en.wikipedia.org/wiki/Burkina_Faso)\n",
    "\n",
    "#### Embedded picture:\n",
    "![Burkina Faso Map](Burkina_Faso_Map.jpg)\n",
    "\n",
    "## [Learn More About Burkina Faso](https://en.wikipedia.org/wiki/Burkina_Faso)\n",
    "\n",
    "---\n"
   ]
  },
  {
   "cell_type": "code",
   "execution_count": 2,
   "id": "8847877f-fadb-4c89-bf44-8272dfa1a6f9",
   "metadata": {},
   "outputs": [
    {
     "name": "stdout",
     "output_type": "stream",
     "text": [
      "the Euclidean algorithm:\n",
      "gcd of 16 and 36 is 4\n",
      "gcd of 12 and 54 is 6\n"
     ]
    }
   ],
   "source": [
    "def gcd(a, b):\n",
    "    while b != 0:\n",
    "        a, b = b, a % b\n",
    "    return a\n",
    "\n",
    "def test_gcd():\n",
    "    print(\"the Euclidean algorithm:\")\n",
    "    print(f\"gcd of 16 and 36 is {gcd(16, 36)}\")\n",
    "    print(f\"gcd of 12 and 54 is {gcd(12, 54)}\")\n",
    "\n",
    "test_gcd()\n"
   ]
  }
 ],
 "metadata": {
  "kernelspec": {
   "display_name": "Python 3 (ipykernel)",
   "language": "python",
   "name": "python3"
  },
  "language_info": {
   "codemirror_mode": {
    "name": "ipython",
    "version": 3
   },
   "file_extension": ".py",
   "mimetype": "text/x-python",
   "name": "python",
   "nbconvert_exporter": "python",
   "pygments_lexer": "ipython3",
   "version": "3.12.4"
  }
 },
 "nbformat": 4,
 "nbformat_minor": 5
}
