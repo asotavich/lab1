{
 "cells": [
  {
   "cell_type": "markdown",
   "id": "0296f9d1-9a34-4d13-add5-4092cc4b0200",
   "metadata": {},
   "source": [
    "# Burkina Faso Country Profile\n",
    "\n",
    "## Area and Population\n",
    "\n",
    "- **Area**: 274,200 square kilometers\n",
    "- **Population**: ~21 million (2023)\n",
    "\n",
    "## Government\n",
    "- **Type**: Presidential Republic\n",
    "- **Capital**: Ouagadougou\n",
    "\n",
    "## Celebrities\n",
    "1. **Thomas Sankara** – Revolutionary and former president.\n",
    "2. **Salif Keita** – Famous footballer.\n",
    "3. **Aïda Muluneh** – Renowned photographer.\n",
    "\n",
    "## Cultural and Natural Attractions\n",
    "- **Cultural Sites:**\n",
    "  - National Museum of Burkina Faso\n",
    "  - Moro-Naba Palace\n",
    "- **Natural Attractions:**\n",
    "  - **Sindou Peaks**\n",
    "  - **Cascades de Karfiguéla**\n",
    "\n",
    "### Burkina Faso Flag\n",
    "\n",
    "%%html\r\n",
    "<svg width=\"300\" height=\"200\">\r\n",
    "  <rect width=\"300\" height=\"100\" style=\"fill:red;\" />\r\n",
    "  <rect y=\"100\" width=\"300\" height=\"100\" style=\"fill:green;\" />\r\n",
    "  <polygon points=\"150,85 165,115 195,115 170,135 180,165 150,145 120,165 130,135 105,115 135,115\" style=\"fill:yellow;\" />\r\n",
    "</svg>\r\n"
   ]
  },
  {
   "cell_type": "code",
   "execution_count": 2,
   "id": "8847877f-fadb-4c89-bf44-8272dfa1a6f9",
   "metadata": {},
   "outputs": [
    {
     "name": "stdout",
     "output_type": "stream",
     "text": [
      "Division Method:\n",
      "GCD of 16 and 36 is 4\n",
      "GCD of 12 and 54 is 6\n",
      "\n",
      "Subtraction Method:\n",
      "GCD of 16 and 36 is 4\n",
      "GCD of 12 and 54 is 6\n"
     ]
    }
   ],
   "source": [
    "def gcd_by_division(a, b):\n",
    "    while b != 0:\n",
    "        a, b = b, a % b\n",
    "    return a\n",
    "\n",
    "def gcd_by_subtraction(a, b):\n",
    "    while a != b:\n",
    "        if a > b:\n",
    "            a -= b\n",
    "        else:\n",
    "            b -= a\n",
    "    return a\n",
    "\n",
    "# Test cases\n",
    "def test_gcd():\n",
    "    print(\"Division Method:\")\n",
    "    print(f\"GCD of 16 and 36 is {gcd_by_division(16, 36)}\")  # Expected: 4\n",
    "    print(f\"GCD of 12 and 54 is {gcd_by_division(12, 54)}\")  # Expected: 6\n",
    "\n",
    "    print(\"\\nSubtraction Method:\")\n",
    "    print(f\"GCD of 16 and 36 is {gcd_by_subtraction(16, 36)}\")  # Expected: 4\n",
    "    print(f\"GCD of 12 and 54 is {gcd_by_subtraction(12, 54)}\")  # Expected: 6\n",
    "\n",
    "test_gcd()\n"
   ]
  }
 ],
 "metadata": {
  "kernelspec": {
   "display_name": "Python 3 (ipykernel)",
   "language": "python",
   "name": "python3"
  },
  "language_info": {
   "codemirror_mode": {
    "name": "ipython",
    "version": 3
   },
   "file_extension": ".py",
   "mimetype": "text/x-python",
   "name": "python",
   "nbconvert_exporter": "python",
   "pygments_lexer": "ipython3",
   "version": "3.10.14"
  }
 },
 "nbformat": 4,
 "nbformat_minor": 5
}
