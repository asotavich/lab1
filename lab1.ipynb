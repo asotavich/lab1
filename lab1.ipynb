{
 "cells": [
  {
   "cell_type": "code",
   "execution_count": 1,
   "id": "dd5532db-7862-49aa-b6c6-70c164c6d313",
   "metadata": {},
   "outputs": [
    {
     "data": {
      "text/plain": [
       "'skibidi, 52'"
      ]
     },
     "execution_count": 1,
     "metadata": {},
     "output_type": "execute_result"
    }
   ],
   "source": [
    "def skibidi(name):\n",
    "    return f'skibidi, {name}'\n",
    "skibidi('52')"
   ]
  },
  {
   "cell_type": "code",
   "execution_count": null,
   "id": "8fc0069d-3b88-4e51-aace-82e14ec0bed7",
   "metadata": {},
   "outputs": [],
   "source": []
  }
 ],
 "metadata": {
  "kernelspec": {
   "display_name": "Python 3 (ipykernel)",
   "language": "python",
   "name": "python3"
  },
  "language_info": {
   "codemirror_mode": {
    "name": "ipython",
    "version": 3
   },
   "file_extension": ".py",
   "mimetype": "text/x-python",
   "name": "python",
   "nbconvert_exporter": "python",
   "pygments_lexer": "ipython3",
   "version": "3.10.14"
  }
 },
 "nbformat": 4,
 "nbformat_minor": 5
}
