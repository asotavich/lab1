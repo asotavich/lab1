{
 "cells": [
  {
   "cell_type": "markdown",
   "id": "0296f9d1-9a34-4d13-add5-4092cc4b0200",
   "metadata": {},
   "source": [
    "##Skibidi"
   ]
  },
  {
   "cell_type": "code",
   "execution_count": 1,
   "id": "dd5532db-7862-49aa-b6c6-70c164c6d313",
   "metadata": {},
   "outputs": [
    {
     "data": {
      "text/plain": [
       "'skibidi, 52'"
      ]
     },
     "execution_count": 1,
     "metadata": {},
     "output_type": "execute_result"
    }
   ],
   "source": [
    "def skibidi(name):\n",
    "    return f'skibidi, {name}'\n",
    "skibidi('52')"
   ]
  }
 ],
 "metadata": {
  "kernelspec": {
   "display_name": "Python 3 (ipykernel)",
   "language": "python",
   "name": "python3"
  },
  "language_info": {
   "codemirror_mode": {
    "name": "ipython",
    "version": 3
   },
   "file_extension": ".py",
   "mimetype": "text/x-python",
   "name": "python",
   "nbconvert_exporter": "python",
   "pygments_lexer": "ipython3",
   "version": "3.10.14"
  }
 },
 "nbformat": 4,
 "nbformat_minor": 5
}
